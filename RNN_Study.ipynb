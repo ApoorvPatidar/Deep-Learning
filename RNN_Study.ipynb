{
 "cells": [
  {
   "cell_type": "code",
   "execution_count": 23,
   "metadata": {},
   "outputs": [],
   "source": [
    "import numpy as np\n",
    "from gensim.models import Word2Vec\n",
    "import torch\n",
    "import torch.nn as nn\n",
    "import torch.optim as optim\n",
    "from sklearn.model_selection import train_test_split\n",
    "import pandas as pd\n",
    "import numpy as np"
   ]
  },
  {
   "cell_type": "code",
   "execution_count": 24,
   "metadata": {},
   "outputs": [
    {
     "data": {
      "text/html": [
       "<div>\n",
       "<style scoped>\n",
       "    .dataframe tbody tr th:only-of-type {\n",
       "        vertical-align: middle;\n",
       "    }\n",
       "\n",
       "    .dataframe tbody tr th {\n",
       "        vertical-align: top;\n",
       "    }\n",
       "\n",
       "    .dataframe thead th {\n",
       "        text-align: right;\n",
       "    }\n",
       "</style>\n",
       "<table border=\"1\" class=\"dataframe\">\n",
       "  <thead>\n",
       "    <tr style=\"text-align: right;\">\n",
       "      <th></th>\n",
       "      <th>v1</th>\n",
       "      <th>v2</th>\n",
       "      <th>Unnamed: 2</th>\n",
       "      <th>Unnamed: 3</th>\n",
       "      <th>Unnamed: 4</th>\n",
       "    </tr>\n",
       "  </thead>\n",
       "  <tbody>\n",
       "    <tr>\n",
       "      <th>0</th>\n",
       "      <td>ham</td>\n",
       "      <td>Go until jurong point, crazy.. Available only ...</td>\n",
       "      <td>NaN</td>\n",
       "      <td>NaN</td>\n",
       "      <td>NaN</td>\n",
       "    </tr>\n",
       "    <tr>\n",
       "      <th>1</th>\n",
       "      <td>ham</td>\n",
       "      <td>Ok lar... Joking wif u oni...</td>\n",
       "      <td>NaN</td>\n",
       "      <td>NaN</td>\n",
       "      <td>NaN</td>\n",
       "    </tr>\n",
       "    <tr>\n",
       "      <th>2</th>\n",
       "      <td>spam</td>\n",
       "      <td>Free entry in 2 a wkly comp to win FA Cup fina...</td>\n",
       "      <td>NaN</td>\n",
       "      <td>NaN</td>\n",
       "      <td>NaN</td>\n",
       "    </tr>\n",
       "    <tr>\n",
       "      <th>3</th>\n",
       "      <td>ham</td>\n",
       "      <td>U dun say so early hor... U c already then say...</td>\n",
       "      <td>NaN</td>\n",
       "      <td>NaN</td>\n",
       "      <td>NaN</td>\n",
       "    </tr>\n",
       "    <tr>\n",
       "      <th>4</th>\n",
       "      <td>ham</td>\n",
       "      <td>Nah I don't think he goes to usf, he lives aro...</td>\n",
       "      <td>NaN</td>\n",
       "      <td>NaN</td>\n",
       "      <td>NaN</td>\n",
       "    </tr>\n",
       "  </tbody>\n",
       "</table>\n",
       "</div>"
      ],
      "text/plain": [
       "     v1                                                 v2 Unnamed: 2  \\\n",
       "0   ham  Go until jurong point, crazy.. Available only ...        NaN   \n",
       "1   ham                      Ok lar... Joking wif u oni...        NaN   \n",
       "2  spam  Free entry in 2 a wkly comp to win FA Cup fina...        NaN   \n",
       "3   ham  U dun say so early hor... U c already then say...        NaN   \n",
       "4   ham  Nah I don't think he goes to usf, he lives aro...        NaN   \n",
       "\n",
       "  Unnamed: 3 Unnamed: 4  \n",
       "0        NaN        NaN  \n",
       "1        NaN        NaN  \n",
       "2        NaN        NaN  \n",
       "3        NaN        NaN  \n",
       "4        NaN        NaN  "
      ]
     },
     "execution_count": 24,
     "metadata": {},
     "output_type": "execute_result"
    }
   ],
   "source": [
    "data = pd.read_csv(r\"SMS-Spam-Classification\\spam.csv\", encoding='ISO-8859-1')\n",
    "data.head()"
   ]
  },
  {
   "cell_type": "code",
   "execution_count": 25,
   "metadata": {},
   "outputs": [
    {
     "name": "stderr",
     "output_type": "stream",
     "text": [
      "c:\\Users\\ASUS\\AppData\\Local\\Programs\\Python\\Python311\\Lib\\site-packages\\sklearn\\preprocessing\\_label.py:110: DataConversionWarning: A column-vector y was passed when a 1d array was expected. Please change the shape of y to (n_samples, ), for example using ravel().\n",
      "  y = column_or_1d(y, warn=True)\n"
     ]
    },
    {
     "data": {
      "text/html": [
       "<div>\n",
       "<style scoped>\n",
       "    .dataframe tbody tr th:only-of-type {\n",
       "        vertical-align: middle;\n",
       "    }\n",
       "\n",
       "    .dataframe tbody tr th {\n",
       "        vertical-align: top;\n",
       "    }\n",
       "\n",
       "    .dataframe thead th {\n",
       "        text-align: right;\n",
       "    }\n",
       "</style>\n",
       "<table border=\"1\" class=\"dataframe\">\n",
       "  <thead>\n",
       "    <tr style=\"text-align: right;\">\n",
       "      <th></th>\n",
       "      <th>v2</th>\n",
       "      <th>target</th>\n",
       "    </tr>\n",
       "  </thead>\n",
       "  <tbody>\n",
       "    <tr>\n",
       "      <th>0</th>\n",
       "      <td>Go until jurong point, crazy.. Available only ...</td>\n",
       "      <td>0</td>\n",
       "    </tr>\n",
       "    <tr>\n",
       "      <th>1</th>\n",
       "      <td>Ok lar... Joking wif u oni...</td>\n",
       "      <td>0</td>\n",
       "    </tr>\n",
       "    <tr>\n",
       "      <th>2</th>\n",
       "      <td>Free entry in 2 a wkly comp to win FA Cup fina...</td>\n",
       "      <td>1</td>\n",
       "    </tr>\n",
       "    <tr>\n",
       "      <th>3</th>\n",
       "      <td>U dun say so early hor... U c already then say...</td>\n",
       "      <td>0</td>\n",
       "    </tr>\n",
       "    <tr>\n",
       "      <th>4</th>\n",
       "      <td>Nah I don't think he goes to usf, he lives aro...</td>\n",
       "      <td>0</td>\n",
       "    </tr>\n",
       "  </tbody>\n",
       "</table>\n",
       "</div>"
      ],
      "text/plain": [
       "                                                  v2  target\n",
       "0  Go until jurong point, crazy.. Available only ...       0\n",
       "1                      Ok lar... Joking wif u oni...       0\n",
       "2  Free entry in 2 a wkly comp to win FA Cup fina...       1\n",
       "3  U dun say so early hor... U c already then say...       0\n",
       "4  Nah I don't think he goes to usf, he lives aro...       0"
      ]
     },
     "execution_count": 25,
     "metadata": {},
     "output_type": "execute_result"
    }
   ],
   "source": [
    "from sklearn.preprocessing import LabelEncoder\n",
    "\n",
    "encoder = LabelEncoder()\n",
    "data[\"target\"] = encoder.fit_transform(data[['v1']])\n",
    "data = data.drop(['v1', 'Unnamed: 2', 'Unnamed: 3', 'Unnamed: 4'], axis=1)\n",
    "data.head()"
   ]
  },
  {
   "cell_type": "code",
   "execution_count": 26,
   "metadata": {},
   "outputs": [],
   "source": [
    "sentences = [text.split() for text in data['v2']]"
   ]
  },
  {
   "cell_type": "markdown",
   "metadata": {},
   "source": [
    "# Train Word2Vec model"
   ]
  },
  {
   "cell_type": "code",
   "execution_count": 27,
   "metadata": {},
   "outputs": [],
   "source": [
    "word2vec_model = Word2Vec(sentences, vector_size=50, window=5, min_count=1, workers=4)"
   ]
  },
  {
   "cell_type": "markdown",
   "metadata": {},
   "source": [
    "# Vocabulary and padding"
   ]
  },
  {
   "cell_type": "code",
   "execution_count": 28,
   "metadata": {},
   "outputs": [],
   "source": [
    "word_idx = {word: i+1 for i, word in enumerate(word2vec_model.wv.index_to_key)}\n",
    "max_len = max(len(s) for s in data[\"v2\"])"
   ]
  },
  {
   "cell_type": "code",
   "execution_count": 29,
   "metadata": {},
   "outputs": [],
   "source": [
    "# COnvert sentences to sequences of indeces \n",
    "# Here i will give only a single sentence as sentence as the input\n",
    "\n",
    "def sentence_to_sequence(sentences, word_idx, max_len):\n",
    "    word = sentences.split()\n",
    "    idx = [word_idx.get(wd) for wd in word]\n",
    "    padded = idx + [0] * (max_len - len(idx))\n",
    "\n",
    "    return padded"
   ]
  },
  {
   "cell_type": "code",
   "execution_count": 30,
   "metadata": {},
   "outputs": [],
   "source": [
    "Target = data['target']\n",
    "Feature = data.drop(['target'], axis=1)"
   ]
  },
  {
   "cell_type": "code",
   "execution_count": 32,
   "metadata": {},
   "outputs": [],
   "source": [
    "x = np.array([sentence_to_sequence(text, word_idx, max_len) for text in data[\"v2\"]])\n",
    "y = np.array(Target)"
   ]
  },
  {
   "cell_type": "code",
   "execution_count": 33,
   "metadata": {},
   "outputs": [],
   "source": [
    "x_train, x_test, y_train, y_test = train_test_split(x, y, test_size=0.2, random_state=42)"
   ]
  },
  {
   "cell_type": "code",
   "execution_count": 34,
   "metadata": {},
   "outputs": [],
   "source": [
    "# Example of how the below code works gets the size of the word vectors then get the size of the vocab and then makes a new zero vector with the size (vocab_len, vector_size)\n",
    "\n",
    "# embedding_matrix =\n",
    "# [[0.0, 0.0, 0.0],      # index 0 (padding)\n",
    "#  [0.1, 0.2, 0.3],      # \"king\"\n",
    "#  [0.4, 0.5, 0.6],      # \"queen\"\n",
    "#  [0.7, 0.8, 0.9],      # \"man\"\n",
    "#  [1.0, 1.1, 1.2]]      # \"woman\""
   ]
  },
  {
   "cell_type": "code",
   "execution_count": null,
   "metadata": {},
   "outputs": [],
   "source": [
    "# Manual embedding matrix creation\n",
    "embedding_dim = word2vec_model.vector_size\n",
    "vocab_size = len(word_idx) + 1  # +1 for padding token\n",
    "embedding_matrix = np.zeros((vocab_size, embedding_dim))\n",
    "for word, idx in word_idx.items():\n",
    "    embedding_matrix[idx] = word2vec_model.wv[word]"
   ]
  },
  {
   "cell_type": "markdown",
   "metadata": {},
   "source": [
    "converting a pandas dataframe gives a object datatype not int or float "
   ]
  },
  {
   "cell_type": "code",
   "execution_count": 36,
   "metadata": {},
   "outputs": [],
   "source": [
    "# Converts the data in the format of the pytorch suitable data\n",
    "\n",
    "x_train = torch.tensor(x_train, dtype=torch.long)\n",
    "x_test = torch.tensor(x_test, dtype=torch.long)\n",
    "y_train = torch.tensor(y_train, dtype=torch.float)\n",
    "y_test = torch.tensor(y_test, dtype=torch.float)"
   ]
  },
  {
   "cell_type": "code",
   "execution_count": 38,
   "metadata": {},
   "outputs": [
    {
     "name": "stdout",
     "output_type": "stream",
     "text": [
      "Epoch 0: Train Loss = 0.7430, Test Loss = 0.7353, Test Acc = 0.1345\n",
      "Epoch 1: Train Loss = 0.7354, Test Loss = 0.7278, Test Acc = 0.1345\n",
      "Epoch 2: Train Loss = 0.7278, Test Loss = 0.7203, Test Acc = 0.1345\n",
      "Epoch 3: Train Loss = 0.7203, Test Loss = 0.7128, Test Acc = 0.1345\n",
      "Epoch 4: Train Loss = 0.7129, Test Loss = 0.7054, Test Acc = 0.1345\n",
      "Epoch 5: Train Loss = 0.7054, Test Loss = 0.6981, Test Acc = 0.1345\n",
      "Epoch 6: Train Loss = 0.6981, Test Loss = 0.6908, Test Acc = 0.8655\n",
      "Epoch 7: Train Loss = 0.6908, Test Loss = 0.6835, Test Acc = 0.8655\n",
      "Epoch 8: Train Loss = 0.6835, Test Loss = 0.6763, Test Acc = 0.8655\n",
      "Epoch 9: Train Loss = 0.6763, Test Loss = 0.6692, Test Acc = 0.8655\n",
      "Prediction for 'win a free trip': not spam\n"
     ]
    }
   ],
   "source": [
    "class RNNClassifier(nn.Module):\n",
    "    def __init__(self, embedding_matrix, hidden_dim, num_classes):\n",
    "        super().__init__()\n",
    "        vocab_size, embedding_dim = embedding_matrix.shape\n",
    "        # Inbuilt function or embedding in pytorch\n",
    "        self.embedding = nn.Embedding.from_pretrained(\n",
    "            torch.tensor(embedding_matrix, dtype=torch.float), \n",
    "            freeze=False\n",
    "        )\n",
    "        self.rnn = nn.RNN(embedding_dim, hidden_dim, batch_first=True)\n",
    "        self.fc = nn.Linear(hidden_dim, num_classes)  \n",
    "\n",
    "    def forward(self, text):\n",
    "        # When the text comes in embedding layer it looks up for the corresponding vector in the embedding matrix and returns the vector\n",
    "        embedded = self.embedding(text) # [batch_size, seq_len, embedding_dim]\n",
    "        output, hidden = self.rnn(embedded) # hidden: [1, batch_size, hidden_dim]\n",
    "        return self.fc(hidden.squeeze(0))   # [batch_size, output_dim]\n",
    "    \n",
    "# Initialize the model parameters\n",
    "hidden_dim = 20\n",
    "output_dim = 1 # 1 for the binary classification\n",
    "\n",
    "# Create the model instance\n",
    "model = RNNClassifier(embedding_matrix, hidden_dim, output_dim)\n",
    "criteria = nn.BCEWithLogitsLoss() # Loss Fucntion Binary Cross Entropy with logits\n",
    "optimizer = optim.Adam(model.parameters(), lr=0.001)\n",
    "\n",
    "epochs = 10\n",
    "for epoch in range(epochs):\n",
    "    model.train()\n",
    "    optimizer.zero_grad()\n",
    "    predictions = model(x_train).squeeze(1) # Removes the extra dimension\n",
    "    loss = criteria(predictions, y_train)\n",
    "    loss.backward()  # Backpropagation\n",
    "    optimizer.step() # Update the weights\n",
    "\n",
    "    # Validation\n",
    "    model.eval()\n",
    "    with torch.no_grad():\n",
    "        test_preds = model(x_test).squeeze(1)\n",
    "        test_loss = criteria(test_preds, y_test)\n",
    "        test_acc = ((test_preds > 0).float() == y_test).float().mean()\n",
    "    print(f\"Epoch {epoch}: Train Loss = {loss.item():.4f}, Test Loss = {test_loss.item():.4f}, Test Acc = {test_acc:.4f}\")\n",
    "\n",
    "new_sms = \"win a free trip\"\n",
    "new_indices = torch.tensor([sentence_to_sequence(new_sms, word_idx, max_len)], dtype=torch.long)\n",
    "model.eval()\n",
    "with torch.no_grad():\n",
    "    pred = model(new_indices).squeeze(1)\n",
    "    pred_class = (pred > 0).float().item()\n",
    "print(f\"Prediction for '{new_sms}': {'spam' if pred_class == 1 else 'not spam'}\")"
   ]
  },
  {
   "cell_type": "code",
   "execution_count": null,
   "metadata": {},
   "outputs": [],
   "source": [
    "# embedded = self.embedding(text)\n",
    "\n",
    "# Let’s say text (i.e. x_train) is shaped like:\n",
    "# [batch_size, seq_len] = [4, 10]\n",
    "\n",
    "# So text is a bunch of word indices, e.g.:\n",
    "\n",
    "# tensor([[12, 56, 89, 0, 0, 0, 0, 0, 0, 0],\n",
    "#         [24, 67, 0, 0, 0, 0, 0, 0, 0, 0],\n",
    "#         ...\n",
    "#        ])"
   ]
  },
  {
   "cell_type": "code",
   "execution_count": null,
   "metadata": {},
   "outputs": [],
   "source": []
  }
 ],
 "metadata": {
  "kernelspec": {
   "display_name": "Python 3",
   "language": "python",
   "name": "python3"
  },
  "language_info": {
   "codemirror_mode": {
    "name": "ipython",
    "version": 3
   },
   "file_extension": ".py",
   "mimetype": "text/x-python",
   "name": "python",
   "nbconvert_exporter": "python",
   "pygments_lexer": "ipython3",
   "version": "3.11.8"
  }
 },
 "nbformat": 4,
 "nbformat_minor": 2
}
